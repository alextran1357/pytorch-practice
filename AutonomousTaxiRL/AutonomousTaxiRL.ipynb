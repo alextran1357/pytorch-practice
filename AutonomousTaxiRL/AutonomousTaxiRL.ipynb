{
 "cells": [
  {
   "cell_type": "markdown",
   "id": "081a4d7a",
   "metadata": {},
   "source": [
    "# Autonomous Taxi using Q-Learning\n",
    "\n",
    "This gym environment is taken from : https://gym.openai.com/envs/Taxi-v3/"
   ]
  },
  {
   "cell_type": "markdown",
   "id": "b4376bcf",
   "metadata": {},
   "source": [
    "## Importing Packages"
   ]
  },
  {
   "cell_type": "code",
   "execution_count": 1,
   "id": "edeaf8d4",
   "metadata": {},
   "outputs": [],
   "source": [
    "import gym\n",
    "import numpy as np\n",
    "import matplotlib.pyplot as plt\n",
    "from IPython.display import clear_output\n",
    "import random"
   ]
  },
  {
   "cell_type": "markdown",
   "id": "15da66f9",
   "metadata": {},
   "source": [
    "## Creating enviornment and initial test run"
   ]
  },
  {
   "cell_type": "code",
   "execution_count": 2,
   "id": "9c3b41fd",
   "metadata": {},
   "outputs": [],
   "source": [
    "env = gym.make('Taxi-v3')"
   ]
  },
  {
   "cell_type": "code",
   "execution_count": 3,
   "id": "4625fe01",
   "metadata": {},
   "outputs": [
    {
     "name": "stdout",
     "output_type": "stream",
     "text": [
      "Episode: 9\n",
      "Score: -686\n"
     ]
    }
   ],
   "source": [
    "episodes = 10\n",
    "for episode in range(1, episodes):\n",
    "    state = env.reset()\n",
    "    done = False\n",
    "    score = 0\n",
    "\n",
    "    while not done:\n",
    "        env.render()\n",
    "        state, reward, done, info = env.step(env.action_space.sample())\n",
    "        score += reward\n",
    "        clear_output(wait=True)\n",
    "    print('Episode: {}\\nScore: {}'.format(episode, score))\n",
    "    \n",
    "env.close()"
   ]
  },
  {
   "cell_type": "markdown",
   "id": "0a83ecdc",
   "metadata": {},
   "source": [
    "## Creating a Q-Table and training"
   ]
  },
  {
   "cell_type": "code",
   "execution_count": 4,
   "id": "4371065a",
   "metadata": {},
   "outputs": [],
   "source": [
    "action = env.action_space.n\n",
    "state = env.observation_space.n\n",
    "\n",
    "q_table = np.zeros((state, action))"
   ]
  },
  {
   "cell_type": "code",
   "execution_count": 5,
   "id": "accca538",
   "metadata": {},
   "outputs": [],
   "source": [
    "# Parameters for Q-Learning\n",
    "num_episodes = 10000\n",
    "max_steps_per_episode = 100\n",
    "\n",
    "learning_rate = 0.1\n",
    "discount_rate = 0.99\n",
    "exploration_rate = 1\n",
    "max_exploration_rate = 1\n",
    "min_exploration_rate = 0.01\n",
    "exploration_decay_rate = 0.001\n",
    "\n",
    "rewards_all_episodes = []\n"
   ]
  },
  {
   "cell_type": "code",
   "execution_count": 6,
   "id": "95d12c20",
   "metadata": {},
   "outputs": [
    {
     "name": "stdout",
     "output_type": "stream",
     "text": [
      "Training Finished\n"
     ]
    }
   ],
   "source": [
    "# Q-Learning Algorithm\n",
    "for episode in range(num_episodes):\n",
    "    state = env.reset()\n",
    "    done = False\n",
    "    rewards_current_episode = 0\n",
    "    \n",
    "    for step in range(max_steps_per_episode):\n",
    "        \n",
    "        #Exploration vs Exploitation trade-off\n",
    "        exploration_threshold = random.uniform(0,1)\n",
    "        if exploration_threshold > exploration_rate:\n",
    "            action = np.argmax(q_table[state,:])\n",
    "        else:\n",
    "            action = env.action_space.sample()\n",
    "        \n",
    "        new_state, reward, done, info = env.step(action)\n",
    "        \n",
    "        # Update Q-Table\n",
    "        q_table[state,action] = q_table[state, action] * (1-learning_rate ) + learning_rate * (reward + discount_rate * np.max(q_table[new_state, :]))\n",
    "        state = new_state\n",
    "        rewards_current_episode += reward\n",
    "        if done == True:\n",
    "            break\n",
    "        \n",
    "    exploration_rate = min_exploration_rate + (max_exploration_rate - min_exploration_rate) * np.exp(-exploration_decay_rate * episode)\n",
    "    rewards_all_episodes.append(rewards_current_episode)\n",
    "\n",
    "print('Training Finished')"
   ]
  },
  {
   "cell_type": "code",
   "execution_count": 18,
   "id": "fd4c3166",
   "metadata": {},
   "outputs": [
    {
     "data": {
      "text/plain": [
       "array([[ 0.        ,  0.        ,  0.        ,  0.        ,  0.        ,\n",
       "         0.        ],\n",
       "       [-0.51249885,  1.82229163, -2.81585608,  1.12909804,  9.6220697 ,\n",
       "        -7.01877938],\n",
       "       [ 5.02158897,  5.61864581,  6.19684409,  4.2373696 , 14.11880599,\n",
       "         0.4547978 ],\n",
       "       ...,\n",
       "       [-1.49064784,  7.77125232, -1.53117712, -1.49905914, -5.64057387,\n",
       "        -6.51585909],\n",
       "       [-2.97455615, -1.63184398, -3.01330534, -2.91744934, -9.8713243 ,\n",
       "        -9.61355829],\n",
       "       [ 2.91408672,  1.35361724,  0.81453568, 18.21393511, -1.35870977,\n",
       "        -2.22819197]])"
      ]
     },
     "execution_count": 18,
     "metadata": {},
     "output_type": "execute_result"
    }
   ],
   "source": [
    "q_table"
   ]
  },
  {
   "cell_type": "code",
   "execution_count": 7,
   "id": "f2dff419",
   "metadata": {},
   "outputs": [
    {
     "name": "stdout",
     "output_type": "stream",
     "text": [
      "Average per thousand episodes\n",
      "1000  :  -247.9499999999999\n",
      "2000  :  -37.467000000000056\n",
      "3000  :  2.013999999999995\n",
      "4000  :  6.003999999999974\n",
      "5000  :  6.714999999999968\n",
      "6000  :  6.973999999999977\n",
      "7000  :  7.397999999999969\n",
      "8000  :  7.630999999999966\n",
      "9000  :  7.309999999999969\n",
      "10000  :  7.41199999999996\n"
     ]
    }
   ],
   "source": [
    "# Colculate and print average reward per thousand episodes\n",
    "rewards_per_thousand_episodes = np.split(np.array(rewards_all_episodes), num_episodes/1000)\n",
    "count = 1000\n",
    "\n",
    "print('Average per thousand episodes')\n",
    "for r in rewards_per_thousand_episodes:\n",
    "    print(count , \" : \", str(sum(r/1000)))\n",
    "    count += 1000"
   ]
  },
  {
   "cell_type": "code",
   "execution_count": 8,
   "id": "988fc973",
   "metadata": {},
   "outputs": [
    {
     "name": "stdout",
     "output_type": "stream",
     "text": [
      "+---------+\n",
      "|R: | : :G|\n",
      "| : | : : |\n",
      "| : : : : |\n",
      "| | : | : |\n",
      "|\u001b[35m\u001b[34;1m\u001b[43mY\u001b[0m\u001b[0m\u001b[0m| : |B: |\n",
      "+---------+\n",
      "  (Dropoff)\n",
      "***Reached Goal***\n"
     ]
    }
   ],
   "source": [
    "# Visualize Agent\n",
    "import time\n",
    "\n",
    "for episode in range(4):\n",
    "    state = env.reset()\n",
    "    done = False\n",
    "    print('Episode is: ', str(episode))\n",
    "    time.sleep(1)\n",
    "    \n",
    "    for step in range(max_steps_per_episode):\n",
    "        clear_output(wait=True)\n",
    "        env.render()\n",
    "        time.sleep(0.4)\n",
    "        action = np.argmax(q_table[state,:])\n",
    "        \n",
    "        new_state, reward, done, info = env.step(action)\n",
    "        \n",
    "        if done:\n",
    "            clear_output(wait=True)\n",
    "            env.render()\n",
    "            if reward == 20:\n",
    "                print('***Reached Goal***')\n",
    "                time.sleep(2)\n",
    "                clear_output(wait=True)\n",
    "            else:\n",
    "                print('***Failed***')\n",
    "                time.sleep(2)\n",
    "                clear_output(wait=True)\n",
    "            break\n",
    "        \n",
    "        state = new_state\n",
    "env.close()"
   ]
  },
  {
   "cell_type": "code",
   "execution_count": null,
   "id": "85b7cb3c",
   "metadata": {},
   "outputs": [],
   "source": []
  }
 ],
 "metadata": {
  "kernelspec": {
   "display_name": "Python 3",
   "language": "python",
   "name": "python3"
  },
  "language_info": {
   "codemirror_mode": {
    "name": "ipython",
    "version": 3
   },
   "file_extension": ".py",
   "mimetype": "text/x-python",
   "name": "python",
   "nbconvert_exporter": "python",
   "pygments_lexer": "ipython3",
   "version": "3.7.0"
  }
 },
 "nbformat": 4,
 "nbformat_minor": 5
}
